{
 "cells": [
  {
   "cell_type": "code",
   "execution_count": 1,
   "metadata": {},
   "outputs": [
    {
     "name": "stdout",
     "output_type": "stream",
     "text": [
      "% of women who survived 0.7420382165605095\n",
      "% of men who survived 0.18890814558058924\n",
      "Your submission was successfully saved!\n"
     ]
    }
   ],
   "source": [
    "import pandas as pd \n",
    "\n",
    "import numpy as np \n",
    "\n",
    "import matplotlib.pyplot as plt\n",
    "\n",
    "train_data = pd.read_csv(\"D:/Titanic_datasets/train.csv\")\n",
    "\n",
    "train_data.head()\n",
    "\n",
    "test_data = pd.read_csv(\"D:/Titanic_datasets/test.csv\")\n",
    "\n",
    "test_data.head()\n",
    "\n",
    "women = train_data.loc[train_data.Sex == 'female'][\"Survived\"]\n",
    "\n",
    "sum_women = sum(women)\n",
    "\n",
    "length_women = len(women)\n",
    "\n",
    "rate_women = sum(women)/len(women)\n",
    "\n",
    "print(\"% of women who survived\",rate_women)\n",
    "\n",
    "men = train_data.loc[train_data.Sex == 'male'][\"Survived\"]\n",
    "\n",
    "rate_men = sum(men)/len(men)\n",
    "\n",
    "print(\"% of men who survived\",rate_men)\n",
    "\n",
    "from sklearn.ensemble import RandomForestClassifier\n",
    "\n",
    "y = train_data['Survived']\n",
    "\n",
    "features = [\"Pclass\", \"Sex\", \"SibSp\", \"Parch\"]\n",
    "\n",
    "x = pd.get_dummies(train_data[features])\n",
    "\n",
    "x_test = pd.get_dummies(test_data[features])\n",
    "\n",
    "model = RandomForestClassifier(n_estimators = 100, max_depth = 5, random_state = 1)\n",
    "\n",
    "model.fit(x,y)\n",
    "\n",
    "predictions = model.predict(x_test)\n",
    "\n",
    "output = pd.DataFrame({'PassengerId': test_data.PassengerId, 'Survived': predictions})\n",
    "output.to_csv('my_submission.csv', index=False)\n",
    "print(\"Your submission was successfully saved!\")"
   ]
  }
 ],
 "metadata": {
  "kernelspec": {
   "display_name": "Python 3",
   "language": "python",
   "name": "python3"
  },
  "language_info": {
   "codemirror_mode": {
    "name": "ipython",
    "version": 3
   },
   "file_extension": ".py",
   "mimetype": "text/x-python",
   "name": "python",
   "nbconvert_exporter": "python",
   "pygments_lexer": "ipython3",
   "version": "3.8.5"
  }
 },
 "nbformat": 4,
 "nbformat_minor": 4
}
